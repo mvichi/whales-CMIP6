{
 "cells": [
  {
   "cell_type": "code",
   "execution_count": null,
   "id": "5227897e-656e-4bb7-96b1-129901dd72da",
   "metadata": {},
   "outputs": [],
   "source": [
    "from xmip.preprocessing import combined_preprocessing\n",
    "from xmip.utils import google_cmip_col\n",
    "import matplotlib.pyplot as plt\n",
    "import xarray as xr\n",
    "import pandas as pd\n",
    "import numpy as np\n",
    "DIR = './processed/'"
   ]
  },
  {
   "cell_type": "code",
   "execution_count": null,
   "id": "23cdb921-7996-41b1-b434-7b335ea56b81",
   "metadata": {},
   "outputs": [],
   "source": [
    "sie_pi = pd.read_csv(DIR+'CMIP6-21_SIE_piControl.csv',index_col=0,parse_dates=True)\n",
    "models=sie_pi.columns.to_list()\n",
    "models"
   ]
  },
  {
   "cell_type": "code",
   "execution_count": null,
   "id": "038958a3-7c0e-454a-8738-2b84187d2cf7",
   "metadata": {},
   "outputs": [],
   "source": [
    "cmip6 = google_cmip_col()"
   ]
  },
  {
   "cell_type": "code",
   "execution_count": null,
   "id": "78aaed20-c2dd-4a38-955e-8145b72eb5a9",
   "metadata": {},
   "outputs": [],
   "source": [
    "#extract from the catalogue SIC and cell area\n",
    "cat = cmip6.search(\n",
    "    source_id=models,\n",
    "    variable_id='siconc', \n",
    "    table_id='SImon',\n",
    "    experiment_id='piControl',\n",
    "    member_id='r1i1p1f1',\n",
    "    grid_label='gn'\n",
    ")\n",
    "ddict = cat.to_dataset_dict(\n",
    "    preprocess=combined_preprocessing,\n",
    "    xarray_open_kwargs={'use_cftime':True},\n",
    ")"
   ]
  },
  {
   "cell_type": "code",
   "execution_count": null,
   "id": "81f30c30-97db-49e9-99d8-3acf1d245f76",
   "metadata": {},
   "outputs": [],
   "source": [
    "ddict.keys()"
   ]
  },
  {
   "cell_type": "code",
   "execution_count": null,
   "id": "203eaea9-359e-4842-8f37-8b65e71661cd",
   "metadata": {},
   "outputs": [],
   "source": [
    "def findedge(sic):\n",
    "    # this function is quite a hack and not optimized to work with cloud data, sorry!\n",
    "    import numpy as np\n",
    "    from scipy.interpolate import interp1d\n",
    "    from calendar import month_abbr\n",
    "    import pandas as pd\n",
    "  \n",
    "    N,JM,IM = sic.shape\n",
    "    lat = sic.lat.values\n",
    "    lon = sic.lon.values\n",
    "    edgelat=np.ones([IM])\n",
    "    edgelon=np.ones([IM])\n",
    "    # interpolating grid\n",
    "    ilon = np.arange(0,360,0.5)\n",
    "    ilat = np.ones([N,len(ilon)])\n",
    "\n",
    "    for t in range(N): # iterate over time\n",
    "        if (t % 10 == 0):\n",
    "            print('month: ',t)\n",
    "        c = sic.isel(time=t).values\n",
    "        for i in range(IM):           #iterating over every longitude\n",
    "            ice=np.where(c[:,i]>0)[0] #find indices where SIC>0\n",
    "            if ice.size == 0:         #if no ice, make both coords NaN\n",
    "                edgelat[i]=np.NaN\n",
    "                edgelon[i]=np.NaN\n",
    "            else:\n",
    "                jice=ice[-1]           #otherwise, take the last index and store coords\n",
    "                edgelat[i]=lat[jice,i]\n",
    "                edgelon[i]=lon[jice,i]\n",
    "        f = interp1d(edgelon, edgelat, bounds_error=False, fill_value='extrapolate')\n",
    "        ilat[t,:] = f(ilon)\n",
    "\n",
    "    # calculate climatologies and create the dataframe\n",
    "    months = [month_abbr[i] for i in [1,2,11,12]]\n",
    "    months_std = [month_abbr[i]+'_std' for i in [1,2,11,12]]\n",
    "    df = pd.DataFrame(index=ilon,columns=months+months_std)\n",
    "    df.index.name = 'Longitude'\n",
    "    jan = ilat[range(0,N,4),:] # extract the rows corresponding to the month (4 month * 100 years)\n",
    "    feb = ilat[range(1,N,4),:]\n",
    "    nov = ilat[range(2,N,4),:]\n",
    "    dec = ilat[range(3,N+1,4),:]\n",
    "    df['Jan'] = np.median(jan,axis=0)\n",
    "    df['Jan_std'] = np.std(jan,axis=0)\n",
    "    df['Feb'] = np.median(feb,axis=0)\n",
    "    df['Feb_std'] = np.std(feb,axis=0)\n",
    "    df['Nov'] = np.median(nov,axis=0)\n",
    "    df['Nov_std'] = np.std(nov,axis=0)\n",
    "    df['Dec'] = np.median(dec,axis=0)\n",
    "    df['Dec_std'] = np.std(dec,axis=0)\n",
    "    return df"
   ]
  },
  {
   "cell_type": "code",
   "execution_count": null,
   "id": "89c699b5-cf98-4a59-8352-60a0eaab8069",
   "metadata": {},
   "outputs": [],
   "source": [
    "# find edge and store the dataframe\n",
    "for name, ds in ddict.items():\n",
    "    print(name)\n",
    "    mname = ds.attrs['source_id']\n",
    "    # extract the last 100 years (1200 months)\n",
    "    NT = ds.time.shape[0]\n",
    "    ds = ds.isel(time=slice(NT-1200,NT))\n",
    "    sic = ds.siconc.squeeze()\n",
    "    sic = sic.sel(time=sic.time.dt.month.isin([11,12,1,2])) # extract summer months\n",
    "    mask = (sic.lat < -40.).compute() # need to carry out the computation because of dask chunks\n",
    "    sic_sh = sic.where(mask, drop=True)\n",
    "    df = findedge(sic_sh)\n",
    "    df.to_csv(DIR+'CMIP-edge-piControl/'+mname+'_edge_piControl.csv')\n"
   ]
  },
  {
   "cell_type": "code",
   "execution_count": null,
   "id": "6dea326a-fe7b-4d54-aa86-a2b2470fb9fe",
   "metadata": {},
   "outputs": [],
   "source": [
    "# group all the models to calculate statistics for the 4 months\n",
    "# the longitude index is set to the range -180,180\n",
    "# model data will be sorted\n",
    "ilon = np.arange(0,360,0.5)\n",
    "lon180 = np.where(ilon>180,ilon-360,ilon)\n",
    "dfj = pd.DataFrame(index=lon180,columns=models)\n",
    "dfj.index.name = 'Longitude'\n",
    "dff = dfj.copy()\n",
    "dfn = dfj.copy()\n",
    "dfd = dfj.copy()\n",
    "\n",
    "for m in models:\n",
    "    df = pd.read_csv(DIR+'CMIP-edge-piControl/'+m+'_edge_piControl.csv',index_col=0)\n",
    "    dfj[m] = df['Jan'].values\n",
    "    dff[m] = df['Feb'].values\n",
    "    dfn[m] = df['Nov'].values\n",
    "    dfd[m] = df['Dec'].values\n",
    "\n",
    "# sort by longitude\n",
    "dfj.sort_index(inplace=True)\n",
    "dff.sort_index(inplace=True)\n",
    "dfn.sort_index(inplace=True)\n",
    "dfd.sort_index(inplace=True)"
   ]
  },
  {
   "cell_type": "code",
   "execution_count": null,
   "id": "528427bc-7ce1-47e0-9531-f2a6eba8e496",
   "metadata": {},
   "outputs": [],
   "source": [
    "# save the results in csv files\n",
    "dfj.to_csv(DIR+'CMIP6-21_SIedge_Jan_piControl.csv')\n",
    "dff.to_csv(DIR+'CMIP6-21_SIedge_Feb_piControl.csv')\n",
    "dfn.to_csv(DIR+'CMIP6-21_SIedge_Nov_piControl.csv')\n",
    "dfd.to_csv(DIR+'CMIP6-21_SIedge_Dec_piControl.csv')"
   ]
  },
  {
   "cell_type": "code",
   "execution_count": null,
   "id": "cd924e59-dee7-4172-892c-fcbcc20b3f71",
   "metadata": {},
   "outputs": [],
   "source": [
    "# plot test figure\n",
    "Mjan = dfj.median(axis=1)\n",
    "p75jan = dfj.quantile(0.75,axis=1)\n",
    "p25jan = dfj.quantile(0.25,axis=1)\n",
    "plt.figure()\n",
    "Mjan.plot(label='Jan median')\n",
    "p75jan.plot(color='C0',linestyle='--',label='75th p')\n",
    "p25jan.plot(color='C0',linestyle='--',label='25th p')\n",
    "plt.legend()"
   ]
  },
  {
   "cell_type": "code",
   "execution_count": null,
   "id": "0ff05e5a-c89e-4577-a52c-ffff7f4a7b31",
   "metadata": {},
   "outputs": [],
   "source": [
    "# some models are empty (retained) and some others have weird latitudes. \n",
    "tmp = dfj.drop(columns=['MIROC6','IPSL-CM5A2-INCA'])\n",
    "tmp.plot()\n",
    "plt.legend(loc='upper right', bbox_to_anchor=(1.5,1))"
   ]
  },
  {
   "cell_type": "code",
   "execution_count": null,
   "id": "b1c283df-3f53-43b9-b63d-0e080dd3d4e5",
   "metadata": {},
   "outputs": [],
   "source": []
  }
 ],
 "metadata": {
  "kernelspec": {
   "display_name": "Python 3 (ipykernel)",
   "language": "python",
   "name": "python3"
  },
  "language_info": {
   "codemirror_mode": {
    "name": "ipython",
    "version": 3
   },
   "file_extension": ".py",
   "mimetype": "text/x-python",
   "name": "python",
   "nbconvert_exporter": "python",
   "pygments_lexer": "ipython3",
   "version": "3.12.8"
  }
 },
 "nbformat": 4,
 "nbformat_minor": 5
}
