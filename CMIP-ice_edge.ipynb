{
 "cells": [
  {
   "cell_type": "code",
   "execution_count": 1,
   "id": "5227897e-656e-4bb7-96b1-129901dd72da",
   "metadata": {},
   "outputs": [],
   "source": [
    "from xmip.preprocessing import combined_preprocessing\n",
    "from xmip.utils import google_cmip_col\n",
    "import matplotlib.pyplot as plt\n",
    "import xarray as xr"
   ]
  },
  {
   "cell_type": "code",
   "execution_count": 2,
   "id": "038958a3-7c0e-454a-8738-2b84187d2cf7",
   "metadata": {},
   "outputs": [],
   "source": [
    "cmip6 = google_cmip_col()"
   ]
  },
  {
   "cell_type": "code",
   "execution_count": 96,
   "id": "78fc7b0d-031a-4335-a567-564b50feef08",
   "metadata": {},
   "outputs": [],
   "source": [
    "models = [\n",
    " 'IPSL-CM6A-LR',\n",
    " 'MIROC6',\n",
    " 'SAM0-UNICON',\n",
    " 'CanESM5',\n",
    " 'MPI-ESM-1-2-HAM',\n",
    " 'MPI-ESM1-2-HR',\n",
    " 'MPI-ESM1-2-LR',\n",
    " 'GFDL-ESM4',\n",
    " 'NorESM2-LM',\n",
    " 'MRI-ESM2-0',\n",
    " 'NorESM2-MM',\n",
    " 'FIO-ESM-2-0',\n",
    " 'CMCC-CM2-SR5',\n",
    " 'EC-Earth3-AerChem',\n",
    " 'TaiESM1',\n",
    " 'NorCPM1',\n",
    " 'IPSL-CM5A2-INCA',\n",
    " 'ACCESS-ESM1-5',\n",
    " 'ACCESS-CM2',\n",
    " 'CMCC-CM2-HR4',\n",
    " 'EC-Earth3',\n",
    " 'EC-Earth3-Veg-LR',\n",
    " 'CAS-ESM2-0',\n",
    " 'EC-Earth3-CC',\n",
    " 'CMCC-ESM2',\n",
    " 'IPSL-CM6A-LR-INCA']"
   ]
  },
  {
   "cell_type": "code",
   "execution_count": 63,
   "id": "78aaed20-c2dd-4a38-955e-8145b72eb5a9",
   "metadata": {},
   "outputs": [
    {
     "name": "stdout",
     "output_type": "stream",
     "text": [
      "\n",
      "--> The keys in the returned dictionary of datasets are constructed as follows:\n",
      "\t'activity_id.institution_id.source_id.experiment_id.table_id.grid_label'\n"
     ]
    },
    {
     "data": {
      "text/html": [
       "\n",
       "<style>\n",
       "    /* Turns off some styling */\n",
       "    progress {\n",
       "        /* gets rid of default border in Firefox and Opera. */\n",
       "        border: none;\n",
       "        /* Needs to be in here for Safari polyfill so background images work as expected. */\n",
       "        background-size: auto;\n",
       "    }\n",
       "    progress:not([value]), progress:not([value])::-webkit-progress-bar {\n",
       "        background: repeating-linear-gradient(45deg, #7e7e7e, #7e7e7e 10px, #5c5c5c 10px, #5c5c5c 20px);\n",
       "    }\n",
       "    .progress-bar-interrupted, .progress-bar-interrupted::-webkit-progress-bar {\n",
       "        background: #F44336;\n",
       "    }\n",
       "</style>\n"
      ],
      "text/plain": [
       "<IPython.core.display.HTML object>"
      ]
     },
     "metadata": {},
     "output_type": "display_data"
    },
    {
     "data": {
      "text/html": [
       "\n",
       "    <div>\n",
       "      <progress value='26' class='' max='26' style='width:300px; height:20px; vertical-align: middle;'></progress>\n",
       "      100.00% [26/26 00:38&lt;00:00]\n",
       "    </div>\n",
       "    "
      ],
      "text/plain": [
       "<IPython.core.display.HTML object>"
      ]
     },
     "metadata": {},
     "output_type": "display_data"
    },
    {
     "name": "stderr",
     "output_type": "stream",
     "text": [
      "/srv/conda/envs/notebook/lib/python3.11/site-packages/xmip/preprocessing.py:96: UserWarning: CMIP.MRI.MRI-ESM2-0.historical.r1i1p1f1.SImon.gn.none.siconc:While renaming to target `lon_bounds`, more than one candidate was found ['x_bnds', 'vertices_longitude']. Renaming x_bnds to lon_bounds. Please double check results.\n",
      "  warnings.warn(\n",
      "/srv/conda/envs/notebook/lib/python3.11/site-packages/xmip/preprocessing.py:96: UserWarning: CMIP.MRI.MRI-ESM2-0.historical.r1i1p1f1.SImon.gn.none.siconc:While renaming to target `lat_bounds`, more than one candidate was found ['y_bnds', 'vertices_latitude']. Renaming y_bnds to lat_bounds. Please double check results.\n",
      "  warnings.warn(\n",
      "/srv/conda/envs/notebook/lib/python3.11/site-packages/xmip/preprocessing.py:96: UserWarning: CMIP.MIROC.MIROC6.historical.r1i1p1f1.SImon.gn.none.siconc:While renaming to target `lon_bounds`, more than one candidate was found ['x_bnds', 'vertices_longitude']. Renaming x_bnds to lon_bounds. Please double check results.\n",
      "  warnings.warn(\n",
      "/srv/conda/envs/notebook/lib/python3.11/site-packages/xmip/preprocessing.py:96: UserWarning: CMIP.MIROC.MIROC6.historical.r1i1p1f1.SImon.gn.none.siconc:While renaming to target `lat_bounds`, more than one candidate was found ['y_bnds', 'vertices_latitude']. Renaming y_bnds to lat_bounds. Please double check results.\n",
      "  warnings.warn(\n"
     ]
    }
   ],
   "source": [
    "#extract from the catalogue SIC and cell area\n",
    "cat = cmip6.search(\n",
    "    source_id=models,\n",
    "    variable_id='siconc', \n",
    "    table_id='SImon',\n",
    "    experiment_id='historical',\n",
    "    member_id='r1i1p1f1',\n",
    "    grid_label='gn'\n",
    ")\n",
    "ddict = cat.to_dataset_dict(\n",
    "    preprocess=combined_preprocessing,\n",
    "    xarray_open_kwargs={'use_cftime':True},\n",
    ")"
   ]
  },
  {
   "cell_type": "code",
   "execution_count": 64,
   "id": "81f30c30-97db-49e9-99d8-3acf1d245f76",
   "metadata": {},
   "outputs": [
    {
     "data": {
      "text/plain": [
       "dict_keys(['CMIP.MRI.MRI-ESM2-0.historical.SImon.gn', 'CMIP.CSIRO.ACCESS-ESM1-5.historical.SImon.gn', 'CMIP.CAS.CAS-ESM2-0.historical.SImon.gn', 'CMIP.IPSL.IPSL-CM6A-LR-INCA.historical.SImon.gn', 'CMIP.NCC.NorESM2-LM.historical.SImon.gn', 'CMIP.EC-Earth-Consortium.EC-Earth3-CC.historical.SImon.gn', 'CMIP.IPSL.IPSL-CM6A-LR.historical.SImon.gn', 'CMIP.AS-RCEC.TaiESM1.historical.SImon.gn', 'CMIP.NOAA-GFDL.GFDL-ESM4.historical.SImon.gn', 'CMIP.CAS.FGOALS-g3.historical.SImon.gn', 'CMIP.CCCma.CanESM5.historical.SImon.gn', 'CMIP.NCC.NorESM2-MM.historical.SImon.gn', 'CMIP.EC-Earth-Consortium.EC-Earth3.historical.SImon.gn', 'CMIP.EC-Earth-Consortium.EC-Earth3-AerChem.historical.SImon.gn', 'CMIP.EC-Earth-Consortium.EC-Earth3-Veg-LR.historical.SImon.gn', 'CMIP.NCC.NorCPM1.historical.SImon.gn', 'CMIP.CMCC.CMCC-ESM2.historical.SImon.gn', 'CMIP.SNU.SAM0-UNICON.historical.SImon.gn', 'CMIP.MPI-M.MPI-ESM1-2-HR.historical.SImon.gn', 'CMIP.CMCC.CMCC-CM2-HR4.historical.SImon.gn', 'CMIP.CSIRO-ARCCSS.ACCESS-CM2.historical.SImon.gn', 'CMIP.IPSL.IPSL-CM5A2-INCA.historical.SImon.gn', 'CMIP.MIROC.MIROC6.historical.SImon.gn', 'CMIP.MPI-M.MPI-ESM1-2-LR.historical.SImon.gn', 'CMIP.HAMMOZ-Consortium.MPI-ESM-1-2-HAM.historical.SImon.gn', 'CMIP.CMCC.CMCC-CM2-SR5.historical.SImon.gn'])"
      ]
     },
     "execution_count": 64,
     "metadata": {},
     "output_type": "execute_result"
    }
   ],
   "source": [
    "ddict.keys()"
   ]
  },
  {
   "cell_type": "code",
   "execution_count": 65,
   "id": "203eaea9-359e-4842-8f37-8b65e71661cd",
   "metadata": {},
   "outputs": [],
   "source": [
    "def findedge(sic):\n",
    "    # this function is quite a hack and not optimized to work with cloud data, sorry!\n",
    "    import numpy as np\n",
    "    from scipy.interpolate import interp1d\n",
    "    from calendar import month_abbr\n",
    "    import pandas as pd\n",
    "  \n",
    "    N,JM,IM = sic.shape\n",
    "    lat = sic.lat.values\n",
    "    lon = sic.lon.values\n",
    "    edgelat=np.ones([IM])\n",
    "    edgelon=np.ones([IM])\n",
    "    # interpolating grid\n",
    "    ilon = np.arange(0,360,0.5)\n",
    "    ilat = np.ones([N,len(ilon)])\n",
    "    \n",
    "    for t in range(N): # iterate over time\n",
    "        c = sic.isel(time=t).values\n",
    "        for i in range(IM):           #iterating over every longitude\n",
    "            ice=np.where(c[:,i]>0)[0] #find indices where SIC>0\n",
    "            if ice.size == 0:         #if no ice, make both coords NaN\n",
    "                edgelat[i]=np.NaN\n",
    "                edgelon[i]=np.NaN\n",
    "            else:\n",
    "                jice=ice[-1]           #otherwise, take the last index and store coords\n",
    "                edgelat[i]=lat[jice,i]\n",
    "                edgelon[i]=lon[jice,i]\n",
    "        f = interp1d(edgelon, edgelat, bounds_error=False, fill_value='extrapolate')\n",
    "        ilat[t,:] = f(ilon)\n",
    "\n",
    "    # calculate climatologies and create the dataframe\n",
    "    months = [month_abbr[i] for i in [1,2,11,12]]\n",
    "    months_std = [month_abbr[i]+'_std' for i in [1,2,11,12]]\n",
    "    df = pd.DataFrame(index=ilon,columns=months+months_std)\n",
    "    df.index.name = 'Longitude'\n",
    "    jan = ilat[range(0,40,4),:] # extract the columns corresponding to the month\n",
    "    feb = ilat[range(1,40,4),:]\n",
    "    nov = ilat[range(2,40,4),:]\n",
    "    dec = ilat[range(3,41,4),:]\n",
    "    df['Jan'] = np.median(jan,axis=0)\n",
    "    df['Jan_std'] = np.std(jan,axis=0)\n",
    "    df['Feb'] = np.median(feb,axis=0)\n",
    "    df['Feb_std'] = np.std(feb,axis=0)\n",
    "    df['Nov'] = np.median(nov,axis=0)\n",
    "    df['Nov_std'] = np.std(nov,axis=0)\n",
    "    df['Dec'] = np.median(dec,axis=0)\n",
    "    df['Dec_std'] = np.std(dec,axis=0)\n",
    "    return df"
   ]
  },
  {
   "cell_type": "code",
   "execution_count": 66,
   "id": "89c699b5-cf98-4a59-8352-60a0eaab8069",
   "metadata": {},
   "outputs": [
    {
     "name": "stdout",
     "output_type": "stream",
     "text": [
      "CMIP.MRI.MRI-ESM2-0.historical.SImon.gn\n",
      "CMIP.CSIRO.ACCESS-ESM1-5.historical.SImon.gn\n",
      "CMIP.CAS.CAS-ESM2-0.historical.SImon.gn\n",
      "CMIP.IPSL.IPSL-CM6A-LR-INCA.historical.SImon.gn\n",
      "CMIP.NCC.NorESM2-LM.historical.SImon.gn\n",
      "CMIP.EC-Earth-Consortium.EC-Earth3-CC.historical.SImon.gn\n"
     ]
    },
    {
     "name": "stderr",
     "output_type": "stream",
     "text": [
      "/srv/conda/envs/notebook/lib/python3.11/site-packages/scipy/interpolate/_interpolate.py:701: RuntimeWarning: invalid value encountered in divide\n",
      "  slope = (y_hi - y_lo) / (x_hi - x_lo)[:, None]\n"
     ]
    },
    {
     "name": "stdout",
     "output_type": "stream",
     "text": [
      "CMIP.IPSL.IPSL-CM6A-LR.historical.SImon.gn\n",
      "CMIP.AS-RCEC.TaiESM1.historical.SImon.gn\n",
      "CMIP.NOAA-GFDL.GFDL-ESM4.historical.SImon.gn\n",
      "CMIP.CAS.FGOALS-g3.historical.SImon.gn\n",
      "CMIP.CCCma.CanESM5.historical.SImon.gn\n",
      "CMIP.NCC.NorESM2-MM.historical.SImon.gn\n",
      "CMIP.EC-Earth-Consortium.EC-Earth3.historical.SImon.gn\n"
     ]
    },
    {
     "name": "stderr",
     "output_type": "stream",
     "text": [
      "/srv/conda/envs/notebook/lib/python3.11/site-packages/scipy/interpolate/_interpolate.py:701: RuntimeWarning: invalid value encountered in divide\n",
      "  slope = (y_hi - y_lo) / (x_hi - x_lo)[:, None]\n"
     ]
    },
    {
     "name": "stdout",
     "output_type": "stream",
     "text": [
      "CMIP.EC-Earth-Consortium.EC-Earth3-AerChem.historical.SImon.gn\n",
      "CMIP.EC-Earth-Consortium.EC-Earth3-Veg-LR.historical.SImon.gn\n",
      "CMIP.NCC.NorCPM1.historical.SImon.gn\n",
      "CMIP.CMCC.CMCC-ESM2.historical.SImon.gn\n",
      "CMIP.SNU.SAM0-UNICON.historical.SImon.gn\n",
      "CMIP.MPI-M.MPI-ESM1-2-HR.historical.SImon.gn\n",
      "CMIP.CMCC.CMCC-CM2-HR4.historical.SImon.gn\n",
      "CMIP.CSIRO-ARCCSS.ACCESS-CM2.historical.SImon.gn\n",
      "CMIP.IPSL.IPSL-CM5A2-INCA.historical.SImon.gn\n",
      "CMIP.MIROC.MIROC6.historical.SImon.gn\n",
      "CMIP.MPI-M.MPI-ESM1-2-LR.historical.SImon.gn\n",
      "CMIP.HAMMOZ-Consortium.MPI-ESM-1-2-HAM.historical.SImon.gn\n",
      "CMIP.CMCC.CMCC-CM2-SR5.historical.SImon.gn\n"
     ]
    }
   ],
   "source": [
    "# find edge and store the dataframe\n",
    "for name, ds in ddict.items():\n",
    "    print(name)\n",
    "    mname = ds.attrs['source_id']\n",
    "    sic = ds.siconc.sel(time=slice('1930','1939')).squeeze()\n",
    "    sic = sic.sel(time=sic.time.dt.month.isin([11,12,1,2])) # extract summer months\n",
    "    mask = (sic.lat < -40.).compute() # need to carry out the computation because of dask chunks\n",
    "    sic_sh = sic.where(mask, drop=True)\n",
    "    df = findedge(sic_sh)\n",
    "    df.to_csv(mname+'_edge_1930_1939.csv')\n"
   ]
  },
  {
   "cell_type": "code",
   "execution_count": null,
   "id": "6dea326a-fe7b-4d54-aa86-a2b2470fb9fe",
   "metadata": {},
   "outputs": [],
   "source": [
    "# group all the models to calculate statistics for the 4 months\n",
    "# the longitude index is set to the range -180,180\n",
    "# model data will be sorted\n",
    "ilon = np.arange(0,360,0.5)\n",
    "lon180 = np.where(ilon>180,ilon-360,ilon)\n",
    "dfj = pd.DataFrame(index=lon180,columns=models)\n",
    "dfj.index.name = 'Longitude'\n",
    "dff = dfj.copy()\n",
    "dfn = dfj.copy()\n",
    "dfd = dfj.copy()\n",
    "\n",
    "for m in models:\n",
    "    df = pd.read_csv(m+'_edge_1930_1939.csv',index_col=0)\n",
    "    dfj[m] = df['Jan'].values\n",
    "    dff[m] = df['Feb'].values\n",
    "    dfn[m] = df['Nov'].values\n",
    "    dfd[m] = df['Dec'].values\n",
    "\n",
    "# sort by longitude\n",
    "dfj.sort_index(inplace=True)\n",
    "dff.sort_index(inplace=True)\n",
    "dfn.sort_index(inplace=True)\n",
    "dfd.sort_index(inplace=True)"
   ]
  },
  {
   "cell_type": "code",
   "execution_count": 198,
   "id": "528427bc-7ce1-47e0-9531-f2a6eba8e496",
   "metadata": {},
   "outputs": [],
   "source": [
    "dfj.to_csv('CMIP6-26_SIedge_Jan_1930_1939.csv')\n",
    "dff.to_csv('CMIP6-26_SIedge_Feb_1930_1939.csv')\n",
    "dfn.to_csv('CMIP6-26_SIedge_Nov_1930_1939.csv')\n",
    "dfd.to_csv('CMIP6-26_SIedge_Dec_1930_1939.csv')"
   ]
  },
  {
   "cell_type": "code",
   "execution_count": 122,
   "id": "cd924e59-dee7-4172-892c-fcbcc20b3f71",
   "metadata": {},
   "outputs": [],
   "source": [
    "# plot test figure\n",
    "Mjan = dfj[best8].median(axis=1)\n",
    "p75jan = dfj[best8].quantile(0.75,axis=1)\n",
    "p25jan = dfj[best8].quantile(0.25,axis=1)\n",
    "plt.figure()\n",
    "Mjan.plot(label='Jan median')\n",
    "p75jan.plot(color='C0',linestyle='--',label='75th p')\n",
    "p25jan.plot(color='C0',linestyle='--',label='25th p')\n",
    "plt.legend()"
   ]
  },
  {
   "cell_type": "code",
   "execution_count": null,
   "id": "b1c283df-3f53-43b9-b63d-0e080dd3d4e5",
   "metadata": {},
   "outputs": [],
   "source": []
  }
 ],
 "metadata": {
  "kernelspec": {
   "display_name": "Python 3 (ipykernel)",
   "language": "python",
   "name": "python3"
  },
  "language_info": {
   "codemirror_mode": {
    "name": "ipython",
    "version": 3
   },
   "file_extension": ".py",
   "mimetype": "text/x-python",
   "name": "python",
   "nbconvert_exporter": "python",
   "pygments_lexer": "ipython3",
   "version": "3.11.7"
  }
 },
 "nbformat": 4,
 "nbformat_minor": 5
}
