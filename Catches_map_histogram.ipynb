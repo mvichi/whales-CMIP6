{
 "cells": [
  {
   "cell_type": "code",
   "execution_count": null,
   "id": "7f4e78c7-4278-4ad7-a0eb-66dde76d54a2",
   "metadata": {},
   "outputs": [],
   "source": [
    "import xarray as xr\n",
    "import numpy as np\n",
    "import matplotlib.pyplot as plt\n",
    "import pandas as pd\n",
    "import datetime\n",
    "from cartopy import crs as ccrs, feature as feature\n",
    "import matplotlib.colors as colors\n",
    "from cartopy.mpl.gridliner import LONGITUDE_FORMATTER, LATITUDE_FORMATTER\n",
    "from shapely.geometry.polygon import LinearRing\n",
    "import matplotlib.ticker as mticker"
   ]
  },
  {
   "cell_type": "code",
   "execution_count": null,
   "id": "b1d9cc5f-79ef-423b-8ee4-3feed9765f94",
   "metadata": {},
   "outputs": [],
   "source": [
    "# Load catches\n",
    "fname = 'data/hump_filled_RR.csv'\n",
    "df = pd.read_csv(fname, sep= ';')\n",
    "# Select higher latitudes and class\n",
    "df = df[df['lat'] <= -40]\n",
    "df = df[df['class'] < 7] # 13576 records\n",
    "#df = df[df['class'] == 1] # 13208 records"
   ]
  },
  {
   "cell_type": "code",
   "execution_count": null,
   "id": "dcfd9664-2b09-4ff1-aaf7-1f11967329ca",
   "metadata": {},
   "outputs": [],
   "source": [
    "# create labels for decades\n",
    "labels = ['{0}-{1}'.format(i, i + 9) for i in range(1900, 1961, 10)]\n",
    "#df = df[(df['year'] >= 1900) & (df['year'] < 1910)]\n",
    "print(labels)\n",
    "df['decade'] = pd.cut(df['year'], range(1900, 1971, 10), right=True, labels=labels)"
   ]
  },
  {
   "cell_type": "code",
   "execution_count": null,
   "id": "32a0dff7-07ac-4ad8-8dd4-5c8f5d349de1",
   "metadata": {},
   "outputs": [],
   "source": [
    "# extract the months and the decade\n",
    "NOV = df[df['month'] == 11]\n",
    "DEC = df[df['month'] == 12]\n",
    "JAN = df[df['month'] == 1]\n",
    "FEB = df[df['month'] == 2]\n",
    "N30 = NOV[NOV['decade']=='1930-1939']\n",
    "D30 = DEC[DEC['decade']=='1930-1939']\n",
    "J30 = JAN[JAN['decade']=='1930-1939']\n",
    "F30 = FEB[FEB['decade']=='1930-1939']\n",
    "total = len(N30)+len(D30)+len(J30)+len(F30)"
   ]
  },
  {
   "cell_type": "code",
   "execution_count": null,
   "id": "5da3f0ee-1955-458b-b44f-b9f154107fc5",
   "metadata": {},
   "outputs": [],
   "source": [
    "# Generate Figure 1a-d\n",
    "fig, axs = plt.subplots(2, 2,sharey=True, tight_layout=True)\n",
    "axs[0,0].hist(NOV['year'], bins= np.arange(1900,1961,10)-0.5, color='green', zorder=2, rwidth=0.8, align = \"left\") ## 10 for Decadal or 1 for annual\n",
    "axs[0,0].set_title('a) November', loc = 'left', fontsize=12)\n",
    "axs[0,0].grid(True, which='major')\n",
    "axs[0,1].hist(DEC['year'], bins=np.arange(1900,1961,10)-0.5, color='green', zorder=2, rwidth=0.8, align = \"left\")  ## 10 for Decadal\n",
    "axs[0,1].set_title('b) December', loc = 'left', fontsize=12)\n",
    "axs[0,1].grid(True)\n",
    "axs[1,0].hist(JAN['year'], bins=np.arange(1900,1961,10)-0.5, color='green', zorder=2, rwidth=0.8, align = \"left\")  ## 10 for Decadal\n",
    "axs[1,0].set_title('c) January', loc = 'left', fontsize=12)\n",
    "axs[1,0].grid(True)\n",
    "axs[1,1].hist(FEB['year'], bins=np.arange(1900,1961,10)-0.5, color='green', zorder=2, rwidth=0.8, align = \"left\")  ## 10 for Decadal\n",
    "axs[1,1].set_title('d) February', loc = 'left', fontsize=12)\n",
    "axs[1,1].grid(True)\n",
    "\n",
    "plt.yticks(np.arange(0, 12000, 2000,)) ##or 2000 for annual ##7000 for decadal\n",
    "\n",
    "x = range(1905, 1976, 10) \n",
    "cc= dict.fromkeys(x)\n",
    "\n",
    "axs[0,0].set(ylabel='Whale Catches')\n",
    "axs[1,0].set(ylabel='Whale Catches')\n",
    "\n",
    "\n",
    "for ax in axs.flat:\n",
    "    ax.set_xticks(range(1900,1961,10))\n",
    "    #ax.set_xticklabels(cc.keys())\n",
    "    ax.xaxis.get_label().set_fontsize(12)\n",
    "    ax.yaxis.get_label().set_fontsize(12)\n",
    "    ax.xaxis.set_tick_params(labelsize=8)\n",
    "    ax.yaxis.set_tick_params(labelsize=12)\n",
    "    ax.set_xlim([1890, 1970])\n",
    "    ax.set_ylim([0, 11000])  #6500 for Decadal or 2000 for annual\n",
    "#for ax in axs.flat:\n",
    "#    ax.label_outer()    \n",
    "plt.savefig('figures/Fig1a-d.png',dpi=300)"
   ]
  },
  {
   "cell_type": "code",
   "execution_count": null,
   "id": "329d1a20-e405-4aa4-95d6-f31b3f24f653",
   "metadata": {},
   "outputs": [],
   "source": [
    "# Generate Figure 1e (to be combined graphically)\n",
    "fig = plt.figure(figsize= (15, 7))\n",
    "ax1 = plt.subplot(1,1,1, projection=ccrs.Miller())\n",
    "\n",
    "ax1.set_extent([-120, 180, -30, -75], crs=ccrs.PlateCarree())\n",
    "\n",
    "lons = [-70, -70, 150, 150]\n",
    "lats = [-40, -70, -70, -40]\n",
    "ring = LinearRing(list(zip(lons, lats)))\n",
    "ax1.add_geometries([ring], ccrs.PlateCarree(), facecolor='none', edgecolor='purple', linewidth = 1)\n",
    "\n",
    "ax1.set_xlabel('Longitude', labelpad=2, fontsize = 14)\n",
    "ax1.set_ylabel('Latitude', labelpad=2, fontsize = 14)\n",
    "ax1.coastlines() \n",
    "\n",
    "gl1 = ax1.gridlines(linewidth = 0.5, color = 'grey', alpha = 0.3, linestyle = '-', draw_labels=True)\n",
    "gl1.xlocator = mticker.MultipleLocator(60)\n",
    "gl1.ylocator = mticker.MultipleLocator(10)\n",
    "\n",
    "gl1.top_labels = False\n",
    "gl1.right_labels = False\n",
    "\n",
    "gl1.xformatter = LONGITUDE_FORMATTER\n",
    "gl1.yformatter = LATITUDE_FORMATTER\n",
    "gl1.xlabel_style = {'size': 13, 'color': 'black'}\n",
    "gl1.ylabel_style = {'size': 13, 'color': 'black'}\n",
    "\n",
    "MS = 35\n",
    "\n",
    "ax1.scatter(N30['long'], N30['lat'], MS, marker='.', facecolor = 'goldenrod', \n",
    "            transform=ccrs.PlateCarree(), zorder=100, label = 'November')\n",
    "ax1.scatter(D30['long'], D30['lat'], MS, marker='.', facecolor = 'cornflowerblue', \n",
    "            transform=ccrs.PlateCarree(), zorder=100, label = 'December')\n",
    "ax1.scatter(J30['long'], J30['lat'], MS, marker='.', facecolor = 'orangered', \n",
    "            transform=ccrs.PlateCarree(), zorder=100, label = 'January')\n",
    "ax1.scatter(F30['long'], F30['lat'], MS, marker='.', facecolor = 'limegreen', \n",
    "            transform=ccrs.PlateCarree(), zorder=100, label = 'February')\n",
    "ax1.legend(loc='upper left', fontsize=14)\n",
    "ax1.set_title('e) 1930-39', loc='left', fontsize=14)\n",
    "plt.tight_layout\n",
    "plt.savefig('figures/Fig1e.png',dpi=300)"
   ]
  },
  {
   "cell_type": "code",
   "execution_count": null,
   "id": "7f9f609c-7d3a-4ee2-854f-0781dc5c042c",
   "metadata": {},
   "outputs": [],
   "source": []
  }
 ],
 "metadata": {
  "kernelspec": {
   "display_name": "Python 3 (ipykernel)",
   "language": "python",
   "name": "python3"
  },
  "language_info": {
   "codemirror_mode": {
    "name": "ipython",
    "version": 3
   },
   "file_extension": ".py",
   "mimetype": "text/x-python",
   "name": "python",
   "nbconvert_exporter": "python",
   "pygments_lexer": "ipython3",
   "version": "3.12.8"
  }
 },
 "nbformat": 4,
 "nbformat_minor": 5
}
