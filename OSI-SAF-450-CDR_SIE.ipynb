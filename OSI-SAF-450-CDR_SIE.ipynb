{
 "cells": [
  {
   "cell_type": "code",
   "execution_count": null,
   "id": "57af1135-d979-4a84-bed6-40756f7bb521",
   "metadata": {},
   "outputs": [],
   "source": [
    "# ESA OSI-SAF 450 CDR SIC 1979-2014\n",
    "# calculate sea ice extent from monthly means and write CSV files\n",
    "import xarray as xr\n",
    "esa_cdr = xr.open_dataset('ice_conc_sh_mon_ease2-250_cdr-v2p0_1979-2015.nc')\n",
    "print(esa_cdr.dims)\n",
    "\n",
    "ESA_AREA = 25.*25.*1.e-6 # million km2\n",
    "esa_sie = esa_cdr.ice_conc.where(esa_cdr.ice_conc>=15)\n",
    "esa_sie = esa_sie/esa_sie*ESA_AREA\n",
    "esa_sie = esa_sie.sum(dim=['xc','yc'],skipna=True)\n",
    "esa_sie.shape\n",
    "\n",
    "df = esa_sie.sel(time=slice('1979','2014')).to_dataframe()\n",
    "df.to_csv('OSI-450-CDR_SIE_m_1979-2014.csv')\n",
    "esa_sie_clim = df.groupby(df.index.month).mean()\n",
    "esa_sie_clim.to_csv('OSI-450-CDR_SIE_clim_1979-2014.csv')"
   ]
  }
 ],
 "metadata": {
  "kernelspec": {
   "display_name": "Python 3 (ipykernel)",
   "language": "python",
   "name": "python3"
  },
  "language_info": {
   "codemirror_mode": {
    "name": "ipython",
    "version": 3
   },
   "file_extension": ".py",
   "mimetype": "text/x-python",
   "name": "python",
   "nbconvert_exporter": "python",
   "pygments_lexer": "ipython3",
   "version": "3.11.7"
  }
 },
 "nbformat": 4,
 "nbformat_minor": 5
}
